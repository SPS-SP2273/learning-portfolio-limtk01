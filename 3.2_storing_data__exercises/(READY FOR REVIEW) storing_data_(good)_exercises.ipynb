{
 "cells": [
  {
   "attachments": {},
   "cell_type": "markdown",
   "id": "123456",
   "metadata": {},
   "source": [
    "<div style=\"text-align:left;font-size:2em\"><span style=\"font-weight:bolder;font-size:1.25em\">SP2273 | Learning Portfolio</span><br><br><span style=\"font-weight:bold;color:darkred\">Storing Data (Good) Exercises</span></div>"
   ]
  },
  {
   "cell_type": "markdown",
   "id": "c694bac6-487d-4acc-b45f-c12822eb252c",
   "metadata": {},
   "source": [
    "### Exercise 1 (Total recall)"
   ]
  },
  {
   "cell_type": "markdown",
   "id": "a06deb6b-2613-417d-894b-9962fe54e7f7",
   "metadata": {},
   "source": [
    "#### Subsetting\n",
    "_To 'select' an element_\n",
    "\n",
    "#### Indexing\n",
    "To select a specific element based on their relative position\n",
    "\n",
    "#### Slicing\n",
    "To select a portion of the elements in the list\n",
    "\n",
    "#### Masking\n",
    "To select a portion of the elements by 'hiding' elements that does not fulfil the condition stated"
   ]
  },
  {
   "cell_type": "markdown",
   "id": "2dd1b23a-05cf-44bd-a496-bae4165717b1",
   "metadata": {},
   "source": [
    "### Exercise 2 (Show me the 'odd' letters')"
   ]
  },
  {
   "cell_type": "code",
   "execution_count": 66,
   "id": "48419864-9d75-49e4-9d2f-1c6fa18ad019",
   "metadata": {},
   "outputs": [],
   "source": [
    "import numpy as np"
   ]
  },
  {
   "cell_type": "code",
   "execution_count": 6,
   "id": "c0c3dc6d-ebc9-4269-a218-7f19246a0b79",
   "metadata": {},
   "outputs": [
    {
     "data": {
      "text/plain": [
       "array([ True,  True, False, False,  True,  True, False, False, False,\n",
       "        True])"
      ]
     },
     "execution_count": 6,
     "metadata": {},
     "output_type": "execute_result"
    }
   ],
   "source": [
    "np_array_2d = np.array([[1, \"A\"], [3, \"C\"], [2, \"B\"], [4, \"D\"],\n",
    "                        [5, \"E\"], [7, \"G\"], [6, \"F\"], [8, \"H\"],\n",
    "                        [10, \"J\"], [9, \"I\"]])\n",
    "\n",
    "np_array_2d_numbers = np_array_2d[0:,0]\n",
    "np_array_int = np_array_2d_numbers.astype(int)\n",
    "np_mask = np_array_int % 2 == 1\n",
    "np_mask"
   ]
  },
  {
   "cell_type": "code",
   "execution_count": 7,
   "id": "7285ed6e-38ba-45b5-a6e5-a51cf0df30a4",
   "metadata": {},
   "outputs": [
    {
     "data": {
      "text/plain": [
       "array(['A', 'C', 'E', 'G', 'I'], dtype='<U21')"
      ]
     },
     "execution_count": 7,
     "metadata": {},
     "output_type": "execute_result"
    }
   ],
   "source": [
    "np_array_masked = np_array_2d[np_mask == True]\n",
    "np_array_masked[0:, 1]"
   ]
  },
  {
   "cell_type": "markdown",
   "id": "bc5b23aa-e625-4f2c-8377-f971bd2e3b08",
   "metadata": {},
   "source": [
    "### Exercise 3"
   ]
  },
  {
   "cell_type": "code",
   "execution_count": 61,
   "id": "ca110934-2347-4cef-934b-1e75ab6157ca",
   "metadata": {},
   "outputs": [
    {
     "data": {
      "text/plain": [
       "array([[66, 50, 57, -1, -1],\n",
       "       [92, -1, 88, -1, -1],\n",
       "       [75, -1, -1, 76, -1],\n",
       "       [-1, 51, 87, -1, -1],\n",
       "       [71, -1, 67, -1, 69]])"
      ]
     },
     "execution_count": 61,
     "metadata": {},
     "output_type": "execute_result"
    }
   ],
   "source": [
    "py_list = [[66, 50, 57, -1, -1], [92, -1, 88, -1, -1], [75, -1, -1, 76, -1], [-1, 51, 87, -1, -1], [71, -1, 67, -1, 69]]\n",
    "np_array = np.array(py_list)\n",
    "np_array"
   ]
  },
  {
   "cell_type": "code",
   "execution_count": 64,
   "id": "1b599624-2fd4-4132-972f-1a905ab2ad92",
   "metadata": {},
   "outputs": [
    {
     "data": {
      "text/plain": [
       "array([[66,  0, 57, -1, -1],\n",
       "       [92, -1, 88, -1, -1],\n",
       "       [75, -1, -1, 76, -1],\n",
       "       [-1, 51, 87, -1, -1],\n",
       "       [71, -1, 67, -1, 69]])"
      ]
     },
     "execution_count": 64,
     "metadata": {},
     "output_type": "execute_result"
    }
   ],
   "source": [
    "mask_1 = np_array == 50\n",
    "np_array[mask_1] = 0\n",
    "np_array"
   ]
  },
  {
   "cell_type": "code",
   "execution_count": 74,
   "id": "5b3af436-6118-4396-85ed-ae291eea574c",
   "metadata": {},
   "outputs": [
    {
     "data": {
      "text/plain": [
       "array([[ 1,  0,  1, -1, -1],\n",
       "       [ 1, -1,  1, -1, -1],\n",
       "       [ 1, -1, -1,  1, -1],\n",
       "       [-1,  1,  1, -1, -1],\n",
       "       [ 1, -1,  1, -1,  1]])"
      ]
     },
     "execution_count": 74,
     "metadata": {},
     "output_type": "execute_result"
    }
   ],
   "source": [
    "mask_2 = np_array < 50 & ~(np_array == 0)\n",
    "np_array[mask_2] = -1\n",
    "mask_3 = np_array > 50\n",
    "np_array[mask_3] = 1\n",
    "np_array"
   ]
  }
 ],
 "metadata": {
  "kernelspec": {
   "display_name": "Python 3 (ipykernel)",
   "language": "python",
   "name": "python3"
  },
  "language_info": {
   "codemirror_mode": {
    "name": "ipython",
    "version": 3
   },
   "file_extension": ".py",
   "mimetype": "text/x-python",
   "name": "python",
   "nbconvert_exporter": "python",
   "pygments_lexer": "ipython3",
   "version": "3.13.5"
  },
  "toc": {
   "base_numbering": 1,
   "nav_menu": {},
   "number_sections": true,
   "sideBar": true,
   "skip_h1_title": false,
   "title_cell": "Table of Contents",
   "title_sidebar": "Contents",
   "toc_cell": false,
   "toc_position": {},
   "toc_section_display": true,
   "toc_window_display": false
  },
  "vscode": {
   "interpreter": {
    "hash": "31f2aee4e71d21fbe5cf8b01ff0e069b9275f58929596ceb00d14d90e3e16cd6"
   }
  }
 },
 "nbformat": 4,
 "nbformat_minor": 5
}
