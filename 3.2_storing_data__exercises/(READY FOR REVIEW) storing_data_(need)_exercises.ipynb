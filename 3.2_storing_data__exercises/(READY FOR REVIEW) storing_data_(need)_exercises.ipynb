{
 "cells": [
  {
   "attachments": {},
   "cell_type": "markdown",
   "id": "123456",
   "metadata": {},
   "source": [
    "<div style=\"text-align:left;font-size:2em\"><span style=\"font-weight:bolder;font-size:1.25em\">SP2273 | Learning Portfolio</span><br><br><span style=\"font-weight:bold;color:darkred\">Storing Data (Need) Exercises</span></div>"
   ]
  },
  {
   "cell_type": "markdown",
   "id": "a357e546-ad11-4601-b74e-01d0dd68c884",
   "metadata": {},
   "source": [
    "### Exercise 1 (Total recall)"
   ]
  },
  {
   "cell_type": "markdown",
   "id": "65045c6e-92e5-4d12-8070-4349c7213ed0",
   "metadata": {},
   "source": [
    "#### Similarities between lists and arrays\n",
    "- Both store data with the brackets `[]`\n",
    "- Both use 0 as the starting index to retrieve the data\n",
    "\n",
    "#### Differences between lists and arrays\n",
    "- Using an addition sign to add a list to the list will grow the list, while adding an array to the original array will cause the value of each element to increase according to the added value\n",
    "- Arrays allow the user to ask questions for a specific condition whereas this cannot be done for list\n",
    "\n",
    "#### What is a dictionary\n",
    "- Dictionary is a way to store data which it values can be accessed by specific 'keys'"
   ]
  },
  {
   "cell_type": "markdown",
   "id": "8db79887-64ce-4c93-8b23-0479c441744f",
   "metadata": {},
   "source": [
    "### Exercise 2 (Indexing)"
   ]
  },
  {
   "cell_type": "code",
   "execution_count": 2,
   "id": "0609e466-b5df-4d4a-a3d5-0decdec1b042",
   "metadata": {},
   "outputs": [
    {
     "name": "stdout",
     "output_type": "stream",
     "text": [
      "a1\n",
      "c3\n",
      "e5\n",
      "g7\n",
      "i9\n"
     ]
    }
   ],
   "source": [
    "py_list = [\"a1\", \"b2\", \"c3\", \"d4\", \"e5\", \"f6\", \"g7\", \"h8\", \"i9\", \"j10\"]\n",
    "print(py_list[0])   # Prints 'a1'\n",
    "print(py_list[2])   # Prints 'c3'\n",
    "print(py_list[4])   # Prints 'e5'\n",
    "print(py_list[6])   # Prints 'g7'\n",
    "print(py_list[8])   # Prints 'i9'"
   ]
  },
  {
   "cell_type": "code",
   "execution_count": 4,
   "id": "d9fc410e-4ab4-4308-b986-4a47342c6d2b",
   "metadata": {},
   "outputs": [
    {
     "name": "stdout",
     "output_type": "stream",
     "text": [
      "['a1', 'c3', 'e5', 'g7', 'i9']\n"
     ]
    }
   ],
   "source": [
    "py_list = [\"a1\", \"b2\", \"c3\", \"d4\", \"e5\", \"f6\", \"g7\", \"h8\", \"i9\", \"j10\"]\n",
    "\n",
    "#Another solution\n",
    "print (py_list[0:9:2])"
   ]
  },
  {
   "cell_type": "markdown",
   "id": "f51c54fc-4d1e-4384-b23f-f6199505ca3c",
   "metadata": {},
   "source": [
    "### Exercise 3 (Index again)"
   ]
  },
  {
   "cell_type": "code",
   "execution_count": 2,
   "id": "5eb2d82d-01a9-451e-a30d-ae71f1e22381",
   "metadata": {},
   "outputs": [],
   "source": [
    "elements = ['Hydrogen',\n",
    "            'Helium', 'Lithium',\n",
    "            'Beryllium', 'Boron', 'Carbon',\n",
    "            'Nitrogen', 'Oxygen',\n",
    "            'Fluorine',\n",
    "            'Neon']"
   ]
  },
  {
   "cell_type": "code",
   "execution_count": 6,
   "id": "844fb8af-1fc8-4c9e-90ee-22fd630e3a58",
   "metadata": {},
   "outputs": [
    {
     "name": "stdout",
     "output_type": "stream",
     "text": [
      "Boron\n"
     ]
    }
   ],
   "source": [
    "print (elements[4])"
   ]
  },
  {
   "cell_type": "code",
   "execution_count": 3,
   "id": "7be94f1c-122e-4722-a9d6-d159cb174978",
   "metadata": {},
   "outputs": [
    {
     "name": "stdout",
     "output_type": "stream",
     "text": [
      "Boron\n"
     ]
    }
   ],
   "source": [
    "print (elements[-6])"
   ]
  },
  {
   "cell_type": "markdown",
   "id": "bd3a6565-949c-4bf6-9ed2-df2b88e1198b",
   "metadata": {},
   "source": [
    "### Exercise 4 (How many ones)"
   ]
  },
  {
   "cell_type": "code",
   "execution_count": 8,
   "id": "8abf8557-a31a-490e-8285-da5f19c193d9",
   "metadata": {},
   "outputs": [],
   "source": [
    "numbers=[45, 60, 1, 30, 96, 1, 96, 57, 16, 1,\n",
    "        99, 62, 86, 43, 42, 60, 59, 1, 1, 35,\n",
    "        83, 47, 34, 28, 68, 23, 22, 92, 1, 79,\n",
    "        1, 29, 94, 72, 46, 47, 1, 74, 32, 20,\n",
    "        8, 37, 35, 1, 89, 29, 86, 19, 43, 61]"
   ]
  },
  {
   "cell_type": "code",
   "execution_count": 10,
   "id": "b679ee55-6717-463c-807d-10e9f90c7273",
   "metadata": {},
   "outputs": [],
   "source": [
    "import numpy as np"
   ]
  },
  {
   "cell_type": "code",
   "execution_count": 15,
   "id": "8394b7ab-6861-48f2-8488-6a44295a83fe",
   "metadata": {},
   "outputs": [
    {
     "data": {
      "text/plain": [
       "np.int64(9)"
      ]
     },
     "execution_count": 15,
     "metadata": {},
     "output_type": "execute_result"
    }
   ],
   "source": [
    "np_numbers = np.array(numbers)\n",
    "sum(np_numbers == 1)"
   ]
  },
  {
   "cell_type": "markdown",
   "id": "d626620b-18e5-413a-9a42-66b74e0c8526",
   "metadata": {},
   "source": [
    "### Exercise 5 (A Matter of Statistics)"
   ]
  },
  {
   "cell_type": "code",
   "execution_count": 17,
   "id": "45fcb3c2-babb-4a2a-a5ac-fc65cfa7c119",
   "metadata": {},
   "outputs": [],
   "source": [
    "x_1 = [1, 4, 9, 16, 25, 36, 49, 64, 81, 100]\n",
    "x_2 = [1, 8, 27, 64, 125, 216, 343, 512, 729, 1000]"
   ]
  },
  {
   "cell_type": "code",
   "execution_count": 20,
   "id": "9522e0fc-ec58-4829-a0ed-18f1dbb97ecb",
   "metadata": {},
   "outputs": [],
   "source": [
    "np_x_1 = np.array(x_1)\n",
    "np_x_2 = np.array(x_2)"
   ]
  },
  {
   "cell_type": "code",
   "execution_count": 23,
   "id": "d5b42c14-745a-45cf-afec-feec52abc0a8",
   "metadata": {},
   "outputs": [
    {
     "name": "stdout",
     "output_type": "stream",
     "text": [
      "38.5\n",
      "302.5\n"
     ]
    }
   ],
   "source": [
    "print (np.mean(np_x_1))\n",
    "print (np.mean(np_x_2))"
   ]
  },
  {
   "cell_type": "code",
   "execution_count": 24,
   "id": "2e921ab1-2505-4af4-ab68-328c165c39a5",
   "metadata": {},
   "outputs": [
    {
     "name": "stdout",
     "output_type": "stream",
     "text": [
      "32.41990129534635\n",
      "326.0893282522444\n"
     ]
    }
   ],
   "source": [
    "print (np.std(np_x_1))\n",
    "print (np.std(np_x_2))"
   ]
  },
  {
   "cell_type": "code",
   "execution_count": 39,
   "id": "1ec33857-16f7-446e-a393-45cc9be81d95",
   "metadata": {},
   "outputs": [
    {
     "data": {
      "text/plain": [
       "np.float64(0.9871796626270701)"
      ]
     },
     "execution_count": 39,
     "metadata": {},
     "output_type": "execute_result"
    }
   ],
   "source": [
    "x = np_x_1 - np.mean(np_x_1)\n",
    "y = np_x_2 - np.mean(np_x_2)\n",
    "z = np.sum(x * y)\n",
    "\n",
    "a = np.std(np_x_1)\n",
    "b = np.std(np_x_2)\n",
    "\n",
    "PCC = z/ (a * b * (len(np_x_1)))\n",
    "PCC"
   ]
  },
  {
   "cell_type": "code",
   "execution_count": 40,
   "id": "dc5f43b9-0a64-4203-8fdb-ce13f509ef00",
   "metadata": {},
   "outputs": [
    {
     "data": {
      "text/plain": [
       "array([[1.        , 0.98717966],\n",
       "       [0.98717966, 1.        ]])"
      ]
     },
     "execution_count": 40,
     "metadata": {},
     "output_type": "execute_result"
    }
   ],
   "source": [
    "np.corrcoef((np_x_1), (np_x_2))"
   ]
  },
  {
   "cell_type": "markdown",
   "id": "1745d193-b548-45e1-aafe-32230d1a182c",
   "metadata": {},
   "source": [
    "Both the Pearson correlation coefficient calculated with and without the the `np.corrcoef()` function gives the same value."
   ]
  }
 ],
 "metadata": {
  "kernelspec": {
   "display_name": "Python 3 (ipykernel)",
   "language": "python",
   "name": "python3"
  },
  "language_info": {
   "codemirror_mode": {
    "name": "ipython",
    "version": 3
   },
   "file_extension": ".py",
   "mimetype": "text/x-python",
   "name": "python",
   "nbconvert_exporter": "python",
   "pygments_lexer": "ipython3",
   "version": "3.13.5"
  },
  "toc": {
   "base_numbering": 1,
   "nav_menu": {},
   "number_sections": true,
   "sideBar": true,
   "skip_h1_title": false,
   "title_cell": "Table of Contents",
   "title_sidebar": "Contents",
   "toc_cell": false,
   "toc_position": {},
   "toc_section_display": true,
   "toc_window_display": false
  },
  "vscode": {
   "interpreter": {
    "hash": "31f2aee4e71d21fbe5cf8b01ff0e069b9275f58929596ceb00d14d90e3e16cd6"
   }
  }
 },
 "nbformat": 4,
 "nbformat_minor": 5
}
