{
 "cells": [
  {
   "attachments": {},
   "cell_type": "markdown",
   "id": "123456",
   "metadata": {},
   "source": [
    "<div style=\"text-align:left;font-size:2em\"><span style=\"font-weight:bolder;font-size:1.25em\">SP2273 | Learning Portfolio</span><br><br><span style=\"font-weight:bold;color:darkred\">Loops (Good) Exercises</span></div>"
   ]
  },
  {
   "cell_type": "markdown",
   "id": "b4da623f-6a06-4525-ae63-53b95c0ce3a5",
   "metadata": {},
   "source": [
    "### Exercise 1 (Make me an odd list)"
   ]
  },
  {
   "cell_type": "code",
   "execution_count": 29,
   "id": "299168c2-bbc7-41ae-9e55-cb0024deba00",
   "metadata": {},
   "outputs": [
    {
     "data": {
      "text/plain": [
       "[1, 9, 25, 49, 81]"
      ]
     },
     "execution_count": 29,
     "metadata": {},
     "output_type": "execute_result"
    }
   ],
   "source": [
    "my_list = []\n",
    "\n",
    "for i in range(9):\n",
    "    if (i + 1) % 2 == 0:\n",
    "        continue\n",
    "\n",
    "    x = (i + 1) ** 2\n",
    "    my_list.append(x)\n",
    "\n",
    "my_list"
   ]
  },
  {
   "cell_type": "code",
   "execution_count": 25,
   "id": "0617b03b-d2f6-428c-b299-af2c0ed13cde",
   "metadata": {},
   "outputs": [
    {
     "data": {
      "text/plain": [
       "[1, 9, 25, 49, 81]"
      ]
     },
     "execution_count": 25,
     "metadata": {},
     "output_type": "execute_result"
    }
   ],
   "source": [
    "#Solution 2\n",
    "my_list = []\n",
    "\n",
    "for i in range(10):\n",
    "    if i % 2 == 0:\n",
    "        continue\n",
    "\n",
    "    x = i ** 2\n",
    "    my_list.append(x)\n",
    "\n",
    "my_list"
   ]
  },
  {
   "cell_type": "markdown",
   "id": "5c6c4531-f152-4179-bf32-0da7dc6c1223",
   "metadata": {},
   "source": [
    "### Exercise 2 (Make me another odd list)"
   ]
  },
  {
   "cell_type": "code",
   "execution_count": 23,
   "id": "cdfefab2-3e48-46de-b9ce-f50efa8deee8",
   "metadata": {},
   "outputs": [
    {
     "data": {
      "text/plain": [
       "[1, 9, 25, 49, 81]"
      ]
     },
     "execution_count": 23,
     "metadata": {},
     "output_type": "execute_result"
    }
   ],
   "source": [
    "[number ** 2 for number in range (10) if number % 2 == 1]"
   ]
  },
  {
   "cell_type": "markdown",
   "id": "58a97421-790c-4ee4-af16-f24646959adb",
   "metadata": {},
   "source": [
    "### Exercise 3 (Time me!)"
   ]
  },
  {
   "cell_type": "code",
   "execution_count": 32,
   "id": "6a1d4338-00c8-40f2-adb6-34ecc429a3a6",
   "metadata": {},
   "outputs": [
    {
     "name": "stdout",
     "output_type": "stream",
     "text": [
      "302 ns ± 1.97 ns per loop (mean ± std. dev. of 7 runs, 1,000,000 loops each)\n"
     ]
    }
   ],
   "source": [
    "%%timeit\n",
    "my_list = []\n",
    "\n",
    "for i in range(10):\n",
    "    if i % 2 == 0:\n",
    "        continue\n",
    "\n",
    "    x = i ** 2\n",
    "    my_list.append(x)"
   ]
  },
  {
   "cell_type": "code",
   "execution_count": 33,
   "id": "8d277c6c-ade6-4581-8ad0-068c4437c3f4",
   "metadata": {},
   "outputs": [
    {
     "name": "stdout",
     "output_type": "stream",
     "text": [
      "259 ns ± 2.47 ns per loop (mean ± std. dev. of 7 runs, 1,000,000 loops each)\n"
     ]
    }
   ],
   "source": [
    "%%timeit \n",
    "[(number) ** 2 for number in range (10) if (number) % 2 == 1]"
   ]
  },
  {
   "cell_type": "markdown",
   "id": "cf02acb4-aaa2-4b56-b6a3-ed63de8612c7",
   "metadata": {},
   "source": [
    "- The loop solution is slower than using list comprehension"
   ]
  },
  {
   "cell_type": "markdown",
   "id": "71038589-ba2b-4cea-bf10-2ee60a8a344e",
   "metadata": {},
   "source": [
    "### Exercise 4 (A problem of decay)"
   ]
  },
  {
   "cell_type": "code",
   "execution_count": 34,
   "id": "01c4ff36-75be-4d98-9090-a65c75af5fdc",
   "metadata": {},
   "outputs": [
    {
     "name": "stdout",
     "output_type": "stream",
     "text": [
      " 14 years\n"
     ]
    }
   ],
   "source": [
    "number = 100\n",
    "years = 0\n",
    "\n",
    "while True:\n",
    "    number *= 0.95\n",
    "    years += 1\n",
    "    if number <= 50: break\n",
    "\n",
    "print (f' {years} years')"
   ]
  },
  {
   "cell_type": "markdown",
   "id": "8ba4f915-060d-4d81-9881-5863ff8faf33",
   "metadata": {},
   "source": [
    "### Exercise 5 (Changes in CO<sub>2</sub>)"
   ]
  },
  {
   "cell_type": "code",
   "execution_count": 49,
   "id": "95caf145-8b35-4b8a-a250-f8f99ecd9001",
   "metadata": {},
   "outputs": [
    {
     "name": "stdout",
     "output_type": "stream",
     "text": [
      "2016.0, 3.410000000000025\n"
     ]
    }
   ],
   "source": [
    "co2_data = [\n",
    "    (2000, 369.55), (2001, 371.14), (2002, 373.28), \n",
    "    (2003, 375.80), (2004, 377.52), (2005, 379.80), \n",
    "    (2006, 381.90), (2007, 383.79), (2008, 385.60), \n",
    "    (2009, 387.43), (2010, 389.90), (2011, 391.65), \n",
    "    (2012, 393.85), (2013, 396.52), (2014, 398.65),\n",
    "    (2015, 400.83), (2016, 404.24), (2017, 406.55), \n",
    "    (2018, 408.52), (2019, 411.44), (2020, 414.24)\n",
    "]\n",
    "\n",
    "import numpy as np\n",
    "np_data = np.array(co2_data)\n",
    "np_levels = np_data[:, 1]\n",
    "np_years = np_data[1:, 0]\n",
    "\n",
    "n = [(np_levels[i + 1] - np_levels[i]) for i in range (20)]\n",
    "np_n = np.array(n)\n",
    "mask = np_n >= 3\n",
    "\n",
    "str_1 = str(np_years[mask][0])\n",
    "str_2 = str(np_n[mask][0])\n",
    "print (f'{str_1}, {str_2}')"
   ]
  }
 ],
 "metadata": {
  "kernelspec": {
   "display_name": "Python 3 (ipykernel)",
   "language": "python",
   "name": "python3"
  },
  "language_info": {
   "codemirror_mode": {
    "name": "ipython",
    "version": 3
   },
   "file_extension": ".py",
   "mimetype": "text/x-python",
   "name": "python",
   "nbconvert_exporter": "python",
   "pygments_lexer": "ipython3",
   "version": "3.13.5"
  },
  "toc": {
   "base_numbering": 1,
   "nav_menu": {},
   "number_sections": true,
   "sideBar": true,
   "skip_h1_title": false,
   "title_cell": "Table of Contents",
   "title_sidebar": "Contents",
   "toc_cell": false,
   "toc_position": {},
   "toc_section_display": true,
   "toc_window_display": false
  },
  "vscode": {
   "interpreter": {
    "hash": "31f2aee4e71d21fbe5cf8b01ff0e069b9275f58929596ceb00d14d90e3e16cd6"
   }
  }
 },
 "nbformat": 4,
 "nbformat_minor": 5
}
