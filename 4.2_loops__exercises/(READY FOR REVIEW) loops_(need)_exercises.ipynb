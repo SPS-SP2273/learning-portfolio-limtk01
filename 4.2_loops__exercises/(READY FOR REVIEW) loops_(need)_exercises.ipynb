{
 "cells": [
  {
   "attachments": {},
   "cell_type": "markdown",
   "id": "123456",
   "metadata": {},
   "source": [
    "<div style=\"text-align:left;font-size:2em\"><span style=\"font-weight:bolder;font-size:1.25em\">SP2273 | Learning Portfolio</span><br><br><span style=\"font-weight:bold;color:darkred\">Loops (Need) Exercises</span></div>"
   ]
  },
  {
   "cell_type": "markdown",
   "id": "fb989ab1-c8ea-48fc-9f88-95e305b26082",
   "metadata": {},
   "source": [
    "### Exercise 1 (Celcius to Farenheit)"
   ]
  },
  {
   "cell_type": "code",
   "execution_count": 10,
   "id": "7a7205f4-2c8e-4706-80aa-6ce308fb6733",
   "metadata": {},
   "outputs": [
    {
     "name": "stdout",
     "output_type": "stream",
     "text": [
      " 0 celcius, 32.0 farenheit\n",
      " 5 celcius, 41.0 farenheit\n",
      " 10 celcius, 50.0 farenheit\n",
      " 15 celcius, 59.0 farenheit\n",
      " 20 celcius, 68.0 farenheit\n",
      " 25 celcius, 77.0 farenheit\n",
      " 30 celcius, 86.0 farenheit\n",
      " 35 celcius, 95.0 farenheit\n",
      " 40 celcius, 104.0 farenheit\n",
      " 45 celcius, 113.0 farenheit\n",
      " 50 celcius, 122.0 farenheit\n"
     ]
    }
   ],
   "source": [
    "temperature_celcius = [0, 5, 10, 15, 20, 25, 30, 35, 40, 45, 50]\n",
    "\n",
    "for i in temperature_celcius:\n",
    "    farenheit = i * 1.8 + 32\n",
    "    print (f' {i} celcius, {farenheit} farenheit')"
   ]
  },
  {
   "cell_type": "markdown",
   "id": "a58c42dd-5b8f-4e6f-b748-d50098b7ff52",
   "metadata": {},
   "source": [
    "### Exercise 2 (Multiplication table)"
   ]
  },
  {
   "cell_type": "code",
   "execution_count": 1,
   "id": "3567b40a-d97c-46c3-921e-900b9392c787",
   "metadata": {},
   "outputs": [
    {
     "name": "stdout",
     "output_type": "stream",
     "text": [
      "A1\tA2\tA3\t\n",
      "\n",
      "B1\tB2\tB3\t\n",
      "\n",
      "C1\tC2\tC3\t\n",
      "\n"
     ]
    }
   ],
   "source": [
    "for letter in ['A', 'B', 'C']:\n",
    "    for number in [1, 2, 3]:\n",
    "        print (f'{letter}{number}', end='\\t')\n",
    "    print ('\\n')"
   ]
  },
  {
   "cell_type": "code",
   "execution_count": 20,
   "id": "ad71bdea-7271-4b0e-9836-942b7b4a3338",
   "metadata": {},
   "outputs": [
    {
     "name": "stdout",
     "output_type": "stream",
     "text": [
      "1 : 1\t2\t3\t4\t5\n",
      "2 : 2\t4\t6\t8\t10\n",
      "3 : 3\t6\t9\t12\t15\n",
      "4 : 4\t8\t12\t16\t20\n",
      "5 : 5\t10\t15\t20\t25\n"
     ]
    }
   ],
   "source": [
    "for row in [1, 2, 3, 4, 5]:\n",
    "    for column in [1, 2, 3, 4, 5]:\n",
    "        if column == 1:\n",
    "            print (f\"{row} : {int(row) * int(column)}\", end='\\t')\n",
    "        elif column < 5:\n",
    "            print (int(row) * int(column), end='\\t')\n",
    "        else:\n",
    "            print (int(row) * int(column), end='\\n')"
   ]
  },
  {
   "cell_type": "markdown",
   "id": "cecbc496-19b6-4d76-a2b2-253d2069b9ad",
   "metadata": {},
   "source": [
    "### Exercise 3 (Simulating a Coin Flip experiment)"
   ]
  },
  {
   "cell_type": "code",
   "execution_count": 33,
   "id": "24003eee-28a1-492e-9196-356b67181def",
   "metadata": {},
   "outputs": [],
   "source": [
    "import numpy as np"
   ]
  },
  {
   "cell_type": "code",
   "execution_count": 47,
   "id": "520662a4-3f6e-4062-9ef5-c8c79cf56e7c",
   "metadata": {},
   "outputs": [
    {
     "name": "stdout",
     "output_type": "stream",
     "text": [
      "Experiment 1 : No. of Heads = 3\n",
      "Experiment 2 : No. of Heads = 4\n",
      "Experiment 3 : No. of Heads = 8\n",
      "Experiment 4 : No. of Heads = 5\n",
      "Experiment 5 : No. of Heads = 6\n",
      "Experiment 6 : No. of Heads = 8\n",
      "Experiment 7 : No. of Heads = 4\n",
      "Experiment 8 : No. of Heads = 4\n",
      "Experiment 9 : No. of Heads = 3\n",
      "Experiment 10 : No. of Heads = 5\n"
     ]
    }
   ],
   "source": [
    "for i in range(10):\n",
    "    if i + 1 <= 10:\n",
    "        np_array = np.random.rand(10)\n",
    "        total_heads = np_array > 0.5\n",
    "        results = sum(total_heads)\n",
    "        print (f\"Experiment {i + 1} : No. of Heads = {results}\")\n",
    "        i += 1"
   ]
  }
 ],
 "metadata": {
  "kernelspec": {
   "display_name": "Python 3 (ipykernel)",
   "language": "python",
   "name": "python3"
  },
  "language_info": {
   "codemirror_mode": {
    "name": "ipython",
    "version": 3
   },
   "file_extension": ".py",
   "mimetype": "text/x-python",
   "name": "python",
   "nbconvert_exporter": "python",
   "pygments_lexer": "ipython3",
   "version": "3.13.5"
  },
  "toc": {
   "base_numbering": 1,
   "nav_menu": {},
   "number_sections": true,
   "sideBar": true,
   "skip_h1_title": false,
   "title_cell": "Table of Contents",
   "title_sidebar": "Contents",
   "toc_cell": false,
   "toc_position": {},
   "toc_section_display": true,
   "toc_window_display": false
  },
  "vscode": {
   "interpreter": {
    "hash": "31f2aee4e71d21fbe5cf8b01ff0e069b9275f58929596ceb00d14d90e3e16cd6"
   }
  }
 },
 "nbformat": 4,
 "nbformat_minor": 5
}
