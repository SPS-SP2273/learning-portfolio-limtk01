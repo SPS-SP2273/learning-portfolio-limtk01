{
 "cells": [
  {
   "attachments": {},
   "cell_type": "markdown",
   "id": "123456",
   "metadata": {},
   "source": [
    "<div style=\"text-align:left;font-size:2em\"><span style=\"font-weight:bolder;font-size:1.25em\">SP2273 | Learning Portfolio</span><br><br><span style=\"font-weight:bold;color:darkred\">Using Jupyter (Need), Exercises</span></div>"
   ]
  },
  {
   "attachments": {},
   "cell_type": "markdown",
   "id": "8798a2ab",
   "metadata": {},
   "source": [
    "## 1 Quadratic Equations"
   ]
  },
  {
   "attachments": {},
   "cell_type": "markdown",
   "id": "4870f903",
   "metadata": {},
   "source": [
    "### Introduction"
   ]
  },
  {
   "cell_type": "markdown",
   "id": "1fb4468e-8031-40a0-9753-b12514c6ce25",
   "metadata": {},
   "source": [
    "![](https://upload.wikimedia.org/wikipedia/commons/f/f8/Polynomialdeg2.svg)\n",
    "\n",
    "(Image from the [<u>Wikipedia page on Quadratic equations</u>](https://en.wikipedia.org/wiki/Quadratic_equation))\n",
    "\n",
    "The general form of a quadratic equation is:\n",
    "$$\n",
    "ax^2+bx+c=0\n",
    "$$"
   ]
  },
  {
   "attachments": {},
   "cell_type": "markdown",
   "id": "8561b3d0",
   "metadata": {},
   "source": [
    "### Solutions"
   ]
  },
  {
   "cell_type": "markdown",
   "id": "95e33afd-5141-4018-87cd-9a3663eae92b",
   "metadata": {
    "scrolled": true
   },
   "source": [
    "Provided $a \\ne 0$, we can use an elementary algebraic method called [<u>completing the square</u>](https://en.wikipedia.org/wiki/Completing_the_square) to show that a qudratic equation has the following solution:\n",
    "\n",
    "$$\n",
    "x = \\dfrac{-b \\pm \\sqrt{b^2-4ac}}{2a}\n",
    "$$"
   ]
  },
  {
   "attachments": {},
   "cell_type": "markdown",
   "id": "31c9963b",
   "metadata": {},
   "source": [
    "### Discriminant"
   ]
  },
  {
   "cell_type": "markdown",
   "id": "2eb309ae-1f45-45e2-aa8d-dff2082350cc",
   "metadata": {},
   "source": [
    "The quantity $\\Delta = b^2 - 4ac$ is called the **discriminant** of the equation and decides the nature of its solutions. The table below shows the various possibilities.\n",
    "\n",
    "| **Discriminant**            | **Roots**                          |\n",
    "|-----------------------------|:-----------------------------------|\n",
    "| $\\Delta = b^2 - 4ac = 0$    |A single solution of $-b/(2a)$     |\n",
    "| $\\Delta = b^2 - 4ac \\gt 0$  |Two distinct solutions             |\n",
    "| $\\Delta = b^2 - 4ac \\lt 0$  |No real solutions; both are complex|"
   ]
  },
  {
   "cell_type": "markdown",
   "id": "28508a8c-8ceb-4410-971c-c5ba18743366",
   "metadata": {},
   "source": [
    "## 2 In your own words, use a markdown cell to answer the following questions."
   ]
  },
  {
   "cell_type": "markdown",
   "id": "d81c7d5a-1a8d-402b-a079-34eb4fff8106",
   "metadata": {},
   "source": [
    "#### 1. What is Git **repository**?"
   ]
  },
  {
   "cell_type": "markdown",
   "id": "2b50b2ec-aa83-4085-9f4f-8d2fa04f0c33",
   "metadata": {},
   "source": [
    "Git repositoy is like a cloud space where the codes we have written are saved."
   ]
  },
  {
   "cell_type": "markdown",
   "id": "b7967ace-85b0-4435-a66f-ad719c9b2940",
   "metadata": {},
   "source": [
    "#### 2. Git keeps track of (BLANK) in the files in our repository"
   ]
  },
  {
   "cell_type": "markdown",
   "id": "6ea60fd3-1f80-4026-a441-93ad168d8a89",
   "metadata": {},
   "source": [
    "Git keeps track of **CHANGES** in the files in our repository"
   ]
  },
  {
   "cell_type": "markdown",
   "id": "7bbcd2e0-b1f0-426c-8a10-646236877935",
   "metadata": {},
   "source": [
    "#### 3. What is a **commit**?"
   ]
  },
  {
   "cell_type": "markdown",
   "id": "d5aa68ee-8903-4731-898e-2215c508abd4",
   "metadata": {},
   "source": [
    "Commit is to select which changes are to be recorded and submitted to GitHub"
   ]
  },
  {
   "cell_type": "markdown",
   "id": "4d6bbd90-59bb-4430-9e3a-2ec20f35d242",
   "metadata": {},
   "source": [
    "#### 4. What is a **push**?"
   ]
  },
  {
   "cell_type": "markdown",
   "id": "f00cfc83-86e9-4241-be4b-e4aa65626652",
   "metadata": {},
   "source": [
    "Push is the act of \"uploading\" the written code from the local computer to the cloud space"
   ]
  },
  {
   "cell_type": "markdown",
   "id": "f9582d43-14e9-4d93-a320-96e7d5a6c36a",
   "metadata": {},
   "source": [
    "#### 5. What is a **pull**?"
   ]
  },
  {
   "cell_type": "markdown",
   "id": "bcadeecf-bfec-49aa-afc2-32c2d3eb0c35",
   "metadata": {},
   "source": [
    "Pull is the act of \"downloading\" the pushed (\"uploaded\") code from the cloud space into the local computer"
   ]
  },
  {
   "cell_type": "markdown",
   "id": "33b90739-879b-4dd4-9904-31a30daf1e75",
   "metadata": {},
   "source": [
    "#### 6. What is the difference between **GitHub** and **GitHub Desktop**?"
   ]
  },
  {
   "cell_type": "markdown",
   "id": "22be5d37-c0db-45e1-9d2d-c34702e49bc7",
   "metadata": {},
   "source": [
    "GitHub is like an online cloud server where written codes are pushed to and every user accessing the same GitHub repository from different devices will be able to see the same written code.\n",
    "\n",
    "GitHub desktop is a server unique to the device itself only and is used as a medium to push and pull written codes to and from the GitHub repository that is shared among the other users."
   ]
  },
  {
   "cell_type": "markdown",
   "id": "cded4921-9817-49ed-ba5f-d287b67ddee9",
   "metadata": {},
   "source": [
    "## 3 A Matter of Statistics"
   ]
  },
  {
   "cell_type": "markdown",
   "id": "ad624d67-2d75-44f4-8eea-3c6a712a18f0",
   "metadata": {},
   "source": [
    "#### The mean ($\\mu$), standard deviation ($\\sigma$), and the Pearson correlation ($r$) are important statistical parameters. Given parameters $x_i$ and $y_i$ representing the $i$-th values in a dataset with $n$ pairs, use Markdown notation to write the equations of the above parameters."
   ]
  },
  {
   "cell_type": "markdown",
   "id": "78f28b4e-e4e6-4b8b-965f-c2dbd4f30866",
   "metadata": {},
   "source": [
    "$$\n",
    "\\mu = \\dfrac{1}{n} \\sum_{i=1}^{n} x_i\n",
    "$$\n",
    "\n",
    "$$\n",
    "\\sigma = \\sqrt{\\dfrac{1}{n} \\sum_{i=1}^{n} {(x_i-\\mu)^2}}\n",
    "$$\n",
    "\n",
    "$$\n",
    "r = \\dfrac{\\sum_{i=1}^{n}(x_i - \\mu_X)(y_i - \\mu_Y)}{\\sqrt{\\sum_{i=1}^{n}(x_i - \\mu_X)^2 \\sum_{i=1}^{n}(y_i - \\mu_Y)^2}}\n",
    "$$"
   ]
  },
  {
   "cell_type": "markdown",
   "id": "9628de67-55a8-47e3-b1b7-c6f65e7d4024",
   "metadata": {},
   "source": [
    "$\\dfrac{1}{12}$\n",
    "\n",
    "$\\frac{1}{12}$\n",
    "\n",
    "The returned result from `frac{}{}` is smaller is size than the result from `$\\dfrac{}{}$`"
   ]
  }
 ],
 "metadata": {
  "kernelspec": {
   "display_name": "Python 3 (ipykernel)",
   "language": "python",
   "name": "python3"
  },
  "language_info": {
   "codemirror_mode": {
    "name": "ipython",
    "version": 3
   },
   "file_extension": ".py",
   "mimetype": "text/x-python",
   "name": "python",
   "nbconvert_exporter": "python",
   "pygments_lexer": "ipython3",
   "version": "3.13.5"
  },
  "toc": {
   "base_numbering": 1,
   "nav_menu": {},
   "number_sections": true,
   "sideBar": true,
   "skip_h1_title": false,
   "title_cell": "Table of Contents",
   "title_sidebar": "Contents",
   "toc_cell": false,
   "toc_position": {},
   "toc_section_display": true,
   "toc_window_display": false
  },
  "vscode": {
   "interpreter": {
    "hash": "31f2aee4e71d21fbe5cf8b01ff0e069b9275f58929596ceb00d14d90e3e16cd6"
   }
  }
 },
 "nbformat": 4,
 "nbformat_minor": 5
}
