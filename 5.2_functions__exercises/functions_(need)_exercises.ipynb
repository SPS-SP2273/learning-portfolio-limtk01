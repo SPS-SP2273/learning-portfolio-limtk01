{
 "cells": [
  {
   "attachments": {},
   "cell_type": "markdown",
   "id": "123456",
   "metadata": {},
   "source": [
    "<div style=\"text-align:left;font-size:2em\"><span style=\"font-weight:bolder;font-size:1.25em\">SP2273 | Learning Portfolio</span><br><br><span style=\"font-weight:bold;color:darkred\">Functions (Need) Exercises</span></div>"
   ]
  },
  {
   "cell_type": "markdown",
   "id": "ee0b04ea-2695-445f-b8ca-a832da0ca68a",
   "metadata": {},
   "source": [
    "### Exercise 1 (Do you know why?)"
   ]
  },
  {
   "cell_type": "code",
   "execution_count": 5,
   "id": "0aaa50d0-dbe6-4775-8567-020ce23bf0b9",
   "metadata": {},
   "outputs": [],
   "source": [
    "def greeting(name):\n",
    "    if name == 'Batman':\n",
    "        return 'Hello Batman! So, nice to meet you!'\n",
    "    return f'Hello {name}!'"
   ]
  },
  {
   "cell_type": "markdown",
   "id": "c0adfe10-4b10-44ec-a580-3a625e68f29a",
   "metadata": {},
   "source": [
    "- Line 1 and 4 should be treated as a pair, hence line 4 indicates what does the function do when an arguement is given to it\n",
    "- The `if` function only creates one exception for one specific arguement, hence no `else` is required"
   ]
  },
  {
   "cell_type": "markdown",
   "id": "6ee4ca6d-6ced-435d-94c3-fcaba06bf30b",
   "metadata": {},
   "source": [
    "### Exercise 2 (Chubby or not)"
   ]
  },
  {
   "cell_type": "code",
   "execution_count": 8,
   "id": "0a6bf0a1-1a83-487f-8a9e-189ce1e00fdd",
   "metadata": {},
   "outputs": [],
   "source": [
    "import numpy as np"
   ]
  },
  {
   "cell_type": "code",
   "execution_count": 2,
   "id": "64bcb67a-5def-4b1f-b6ff-5d83eac6a59c",
   "metadata": {},
   "outputs": [
    {
     "data": {
      "text/plain": [
       "'Normal weight'"
      ]
     },
     "execution_count": 2,
     "metadata": {},
     "output_type": "execute_result"
    }
   ],
   "source": [
    "def calculate_bmi(weight, height):\n",
    "    number = weight/height**2\n",
    "    if number < 18.5:\n",
    "        return ('Underweight')\n",
    "    elif 18.5 <= number < 25:\n",
    "         return ('Normal weight')\n",
    "    elif 25 <= number < 30:\n",
    "        return ('Overweight')\n",
    "    elif number >= 30:\n",
    "        return ('Obese')\n",
    "\n",
    "calculate_bmi(66, 1.72)"
   ]
  },
  {
   "cell_type": "markdown",
   "id": "d3dd20bb-8f23-4963-8be1-cee0f825213f",
   "metadata": {},
   "source": [
    "### Exercise 3 (Factorials)"
   ]
  },
  {
   "cell_type": "code",
   "execution_count": 48,
   "id": "8b830668-1da1-4990-9205-63311e10d9d0",
   "metadata": {},
   "outputs": [
    {
     "ename": "AssertionError",
     "evalue": "n is becoming negative!",
     "output_type": "error",
     "traceback": [
      "\u001b[31m---------------------------------------------------------------------------\u001b[39m",
      "\u001b[31mAssertionError\u001b[39m                            Traceback (most recent call last)",
      "\u001b[36mCell\u001b[39m\u001b[36m \u001b[39m\u001b[32mIn[48]\u001b[39m\u001b[32m, line 11\u001b[39m\n\u001b[32m      8\u001b[39m             result *= number\n\u001b[32m      9\u001b[39m         \u001b[38;5;28;01mreturn\u001b[39;00m result\n\u001b[32m---> \u001b[39m\u001b[32m11\u001b[39m factorial (-\u001b[32m4\u001b[39m)\n",
      "\u001b[36mCell\u001b[39m\u001b[36m \u001b[39m\u001b[32mIn[48]\u001b[39m\u001b[32m, line 2\u001b[39m, in \u001b[36mfactorial\u001b[39m\u001b[34m(n)\u001b[39m\n\u001b[32m      1\u001b[39m \u001b[38;5;28;01mdef\u001b[39;00m\u001b[38;5;250m \u001b[39m\u001b[34mfactorial\u001b[39m(n):\n\u001b[32m----> \u001b[39m\u001b[32m2\u001b[39m     \u001b[38;5;28;01massert\u001b[39;00m n >= \u001b[32m0\u001b[39m, \u001b[33m'\u001b[39m\u001b[33mn is becoming negative!\u001b[39m\u001b[33m'\u001b[39m\n\u001b[32m      3\u001b[39m     \u001b[38;5;28;01mif\u001b[39;00m n == \u001b[32m0\u001b[39m:\n\u001b[32m      4\u001b[39m         \u001b[38;5;28;01mreturn\u001b[39;00m \u001b[32m1\u001b[39m\n",
      "\u001b[31mAssertionError\u001b[39m: n is becoming negative!"
     ]
    }
   ],
   "source": [
    "def factorial(n):\n",
    "    assert n >= 0, 'n is becoming negative!'\n",
    "    if n == 0:\n",
    "        return 1\n",
    "    else:\n",
    "        result = n\n",
    "        for number in range(1, n):\n",
    "            result *= number\n",
    "        return result\n",
    "\n",
    "factorial (-4)"
   ]
  },
  {
   "cell_type": "code",
   "execution_count": 5,
   "id": "06ea1d5f-84e9-4ca0-99ab-7309bf76ec83",
   "metadata": {},
   "outputs": [],
   "source": [
    "# Alternative Solution\n",
    "\n",
    "def factorial(n):\n",
    "    if n < 0:\n",
    "        return \"Invalid input\"\n",
    "    elif n == 0:\n",
    "        return 1\n",
    "    else:\n",
    "        result = n\n",
    "        for number in range(1, n):\n",
    "            result *= number\n",
    "        return result"
   ]
  }
 ],
 "metadata": {
  "kernelspec": {
   "display_name": "Python 3 (ipykernel)",
   "language": "python",
   "name": "python3"
  },
  "language_info": {
   "codemirror_mode": {
    "name": "ipython",
    "version": 3
   },
   "file_extension": ".py",
   "mimetype": "text/x-python",
   "name": "python",
   "nbconvert_exporter": "python",
   "pygments_lexer": "ipython3",
   "version": "3.13.5"
  },
  "toc": {
   "base_numbering": 1,
   "nav_menu": {},
   "number_sections": true,
   "sideBar": true,
   "skip_h1_title": false,
   "title_cell": "Table of Contents",
   "title_sidebar": "Contents",
   "toc_cell": false,
   "toc_position": {},
   "toc_section_display": true,
   "toc_window_display": false
  },
  "vscode": {
   "interpreter": {
    "hash": "31f2aee4e71d21fbe5cf8b01ff0e069b9275f58929596ceb00d14d90e3e16cd6"
   }
  }
 },
 "nbformat": 4,
 "nbformat_minor": 5
}
