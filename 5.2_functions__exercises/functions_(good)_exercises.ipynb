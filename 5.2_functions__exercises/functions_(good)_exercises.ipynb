{
 "cells": [
  {
   "attachments": {},
   "cell_type": "markdown",
   "id": "123456",
   "metadata": {},
   "source": [
    "<div style=\"text-align:left;font-size:2em\"><span style=\"font-weight:bolder;font-size:1.25em\">SP2273 | Learning Portfolio</span><br><br><span style=\"font-weight:bold;color:darkred\">Functions (Good) Exercises</span></div>"
   ]
  },
  {
   "cell_type": "markdown",
   "id": "13ac1ea8-e8ab-4362-8d1e-cd37dac58716",
   "metadata": {},
   "source": [
    "### Exercise 1 (Celcius to Farenheit or Kelvin)"
   ]
  },
  {
   "cell_type": "code",
   "execution_count": 18,
   "id": "4d61c1c1-bd02-40ce-9e40-481ab5728ed1",
   "metadata": {},
   "outputs": [
    {
     "data": {
      "text/plain": [
       "'32.0 Fahrenheit'"
      ]
     },
     "execution_count": 18,
     "metadata": {},
     "output_type": "execute_result"
    }
   ],
   "source": [
    "def convert_celcius(temperature_celcius, target_scale = 'Fahrenheit'):\n",
    "    if target_scale == 'Kelvin':\n",
    "        converted = temperature_celcius + 273.15\n",
    "    else:\n",
    "        converted = temperature_celcius * 1.8 + 32 \n",
    "    return f'{converted} {target_scale}'\n",
    "\n",
    "convert_celcius (0)"
   ]
  },
  {
   "cell_type": "markdown",
   "id": "9053a164-dc7f-4893-89b6-d14931092043",
   "metadata": {},
   "source": [
    "### Exercise 2 (Fahrenheit to Celcius or Kelvin)"
   ]
  },
  {
   "cell_type": "code",
   "execution_count": 3,
   "id": "a823c04f-3f6e-4ea4-889c-d452fcca60d0",
   "metadata": {},
   "outputs": [
    {
     "data": {
      "text/plain": [
       "'0.0 Celcius'"
      ]
     },
     "execution_count": 3,
     "metadata": {},
     "output_type": "execute_result"
    }
   ],
   "source": [
    "def convert_fahrenheit(temperature_fahrenheit, target_scale = 'Celcius'):\n",
    "    if target_scale == 'Kelvin':\n",
    "        converted_fahrenheit = (temperature_fahrenheit - 32) * 1.8 + 273.15\n",
    "    else:\n",
    "        converted_fahrenheit = (temperature_fahrenheit - 32) * 5/9\n",
    "    return f'{converted_fahrenheit} {target_scale}'\n",
    "\n",
    "convert_fahrenheit (32)"
   ]
  },
  {
   "cell_type": "markdown",
   "id": "5fc1dfb2-2242-4f12-8f0a-59b7d3e29cc3",
   "metadata": {},
   "source": [
    "### Exercise 3 (General Temperature Conversion)"
   ]
  },
  {
   "cell_type": "code",
   "execution_count": 3,
   "id": "9f0f0e5e-6158-4d99-b390-a98f55e82491",
   "metadata": {},
   "outputs": [],
   "source": [
    "def convert_celcius(temperature_celcius, target_scale = 'Fahrenheit'):\n",
    "    if target_scale == 'Kelvin':\n",
    "        converted = temperature_celcius + 273.15\n",
    "    else:\n",
    "        converted = temperature_celcius * 1.8 + 32 \n",
    "    return f'{converted} {target_scale}'\n",
    "\n",
    "def convert_fahrenheit(temperature_fahrenheit, target_scale = 'Celcius'):\n",
    "    if target_scale == 'Kelvin':\n",
    "        converted_fahrenheit = (temperature_fahrenheit - 32) * 1.8 + 273.15\n",
    "    else:\n",
    "        converted_fahrenheit = (temperature_fahrenheit - 32) * 5/9\n",
    "    return f'{converted_fahrenheit} {target_scale}'\n",
    "\n",
    "def convert_kelvin(temperature_kelvin, target_scale):\n",
    "    if target_scale == 'Celcius':\n",
    "        converted_kelvin = temperature_kelvin - 273.15\n",
    "    elif target_scale == 'Fahrenheit':\n",
    "        converted_kelvin = (temperature_kelvin - 273.15) * 1.8 + 32\n",
    "    return f'{converted_kelvin} {target_scale}'"
   ]
  },
  {
   "cell_type": "code",
   "execution_count": 4,
   "id": "533e8e5d-0b07-42f7-b734-64fff990e9fd",
   "metadata": {},
   "outputs": [
    {
     "data": {
      "text/plain": [
       "'-459.66999999999996 Fahrenheit'"
      ]
     },
     "execution_count": 4,
     "metadata": {},
     "output_type": "execute_result"
    }
   ],
   "source": [
    "def convert_temperature(temperature, source_scale, target_scale):\n",
    "    if source_scale == 'Celcius':\n",
    "        return convert_celcius (temperature, target_scale)\n",
    "    elif source_scale == 'Fahrenheit':\n",
    "        return convert_fahrenheit (temperature, target_scale)\n",
    "    elif source_scale == 'Kelvin':\n",
    "        return convert_kelvin (temperature, target_scale)\n",
    "\n",
    "convert_temperature (0, 'Kelvin', 'Fahrenheit')"
   ]
  }
 ],
 "metadata": {
  "kernelspec": {
   "display_name": "Python 3 (ipykernel)",
   "language": "python",
   "name": "python3"
  },
  "language_info": {
   "codemirror_mode": {
    "name": "ipython",
    "version": 3
   },
   "file_extension": ".py",
   "mimetype": "text/x-python",
   "name": "python",
   "nbconvert_exporter": "python",
   "pygments_lexer": "ipython3",
   "version": "3.13.5"
  },
  "toc": {
   "base_numbering": 1,
   "nav_menu": {},
   "number_sections": true,
   "sideBar": true,
   "skip_h1_title": false,
   "title_cell": "Table of Contents",
   "title_sidebar": "Contents",
   "toc_cell": false,
   "toc_position": {},
   "toc_section_display": true,
   "toc_window_display": false
  },
  "vscode": {
   "interpreter": {
    "hash": "31f2aee4e71d21fbe5cf8b01ff0e069b9275f58929596ceb00d14d90e3e16cd6"
   }
  }
 },
 "nbformat": 4,
 "nbformat_minor": 5
}
