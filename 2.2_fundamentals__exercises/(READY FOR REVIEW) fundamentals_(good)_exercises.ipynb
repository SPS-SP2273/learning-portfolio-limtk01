{
 "cells": [
  {
   "attachments": {},
   "cell_type": "markdown",
   "id": "123456",
   "metadata": {},
   "source": [
    "<div style=\"text-align:left;font-size:2em\"><span style=\"font-weight:bolder;font-size:1.25em\">SP2273 | Learning Portfolio</span><br><br><span style=\"font-weight:bold;color:darkred\">Fundamentals (Good) Exercises</span></div>"
   ]
  },
  {
   "cell_type": "markdown",
   "id": "05fdc522-8eef-48ff-b2de-b5ecffd57ab2",
   "metadata": {},
   "source": [
    "## Exercise 1 (f-strings to the rescue)"
   ]
  },
  {
   "cell_type": "code",
   "execution_count": 2,
   "id": "a9e95aa4-0569-49ed-bcaa-984a832213ce",
   "metadata": {},
   "outputs": [
    {
     "name": "stdin",
     "output_type": "stream",
     "text": [
      "Please provide me with a number? 123456\n"
     ]
    },
    {
     "name": "stdout",
     "output_type": "stream",
     "text": [
      "You entered 123456\n"
     ]
    }
   ],
   "source": [
    "user_input = input('Please provide me with a number?')\n",
    "print ('You entered', user_input)"
   ]
  },
  {
   "cell_type": "code",
   "execution_count": 7,
   "id": "ec081aad-c2d1-4cdf-8134-8699538d1f8c",
   "metadata": {},
   "outputs": [
    {
     "name": "stdin",
     "output_type": "stream",
     "text": [
      "How do I address you? Lim Teck Khai\n"
     ]
    },
    {
     "name": "stdout",
     "output_type": "stream",
     "text": [
      "How you doin \u001b[1mLIM TECK KHAI\u001b[0m!\n"
     ]
    }
   ],
   "source": [
    "user_input = input('How do I address you?')\n",
    "print (f'How you doin \\033[1m{user_input.upper()}\\033[0m!')"
   ]
  },
  {
   "cell_type": "code",
   "execution_count": 9,
   "id": "58ed9702-06de-4b1c-a691-49bd562efb3d",
   "metadata": {},
   "outputs": [
    {
     "name": "stdin",
     "output_type": "stream",
     "text": [
      "How do I address you? Lim Teck Khai\n",
      "How old are you? 21\n"
     ]
    },
    {
     "name": "stdout",
     "output_type": "stream",
     "text": [
      "My name is \u001b[1mLIM TECK KHAI\u001b[0m and I am \u001b[1m21\u001b[0m years old.\n"
     ]
    }
   ],
   "source": [
    "user_input_name = input('How do I address you?')\n",
    "user_input_age = input('How old are you?')\n",
    "print (f'My name is \\033[1m{user_input_name.upper()}\\033[0m and I am \\033[1m{user_input_age.upper()}\\033[0m years old.')"
   ]
  },
  {
   "cell_type": "code",
   "execution_count": 13,
   "id": "36774a69-1d8a-4239-b3b0-d51f960a005d",
   "metadata": {},
   "outputs": [
    {
     "name": "stdout",
     "output_type": "stream",
     "text": [
      "The value of pi to 2 decimal places is: 3.14\n",
      "The value of pi to 3 decimal places is: 3.142\n",
      "The value of pi to 4 decimal places is: 3.1416\n"
     ]
    }
   ],
   "source": [
    "pi = 3.141592653589793\n",
    "print (f'The value of pi to 2 decimal places is: {pi:.2f}')\n",
    "print (f'The value of pi to 3 decimal places is: {pi:.3f}')\n",
    "print (f'The value of pi to 4 decimal places is: {pi:.4f}')"
   ]
  },
  {
   "cell_type": "code",
   "execution_count": 31,
   "id": "9750b9b6-5ade-488d-a555-a82ef3128823",
   "metadata": {},
   "outputs": [
    {
     "name": "stdout",
     "output_type": "stream",
     "text": [
      "Apple      $ 0.99\n",
      "Banana     $ 0.59\n",
      "Orange     $ 1.29\n"
     ]
    }
   ],
   "source": [
    "fruit_a = 'Apple'\n",
    "price_a = '0.99'\n",
    "fruit_b = 'Banana'\n",
    "price_b = '0.59'\n",
    "fruit_o = 'Orange'\n",
    "price_o = '1.29'\n",
    "print (f'{fruit_a:<10} ${price_a:>5}\\n{fruit_b:<10} ${price_b:>5}\\n{fruit_o:<10} ${price_o:>5}')"
   ]
  },
  {
   "cell_type": "markdown",
   "id": "020897e4-8efc-451a-acae-7fcc5fcbd64c",
   "metadata": {},
   "source": [
    "## Exercise 2 (What is your grade?)"
   ]
  },
  {
   "cell_type": "code",
   "execution_count": 4,
   "id": "53abb32f-cf37-44da-86fe-1b8382407de3",
   "metadata": {},
   "outputs": [
    {
     "name": "stdin",
     "output_type": "stream",
     "text": [
      "Enter the student's grade: 68\n"
     ]
    },
    {
     "name": "stdout",
     "output_type": "stream",
     "text": [
      "The student's letter grade is: B\n"
     ]
    }
   ],
   "source": [
    "user_input = input('Enter the student\\'s grade:')\n",
    "text = 'The student\\'s letter grade is:'\n",
    "if user_input.isnumeric() == False:\n",
    "    print ('Please enter a valid score')\n",
    "elif 70 <= int(user_input) <= 100:\n",
    "    print (f'{text} A')\n",
    "elif 50 <= int(user_input) < 70:\n",
    "    print (f'{text} B')\n",
    "elif 35 <= int(user_input) < 50:\n",
    "    print (f'{text} C')\n",
    "elif 0 <= int(user_input) < 35:\n",
    "    print (f'{text} Fail')\n",
    "else:\n",
    "    print ('Please enter a valid score')"
   ]
  },
  {
   "cell_type": "code",
   "execution_count": 61,
   "id": "a2c7aa87-3fc4-474c-bcf7-8a89eb4af32f",
   "metadata": {},
   "outputs": [
    {
     "name": "stdin",
     "output_type": "stream",
     "text": [
      "Enter the student's grade: 68.9\n"
     ]
    },
    {
     "name": "stdout",
     "output_type": "stream",
     "text": [
      "The student's letter grade is: B\n"
     ]
    }
   ],
   "source": [
    "user_input = input('Enter the student\\'s grade:')\n",
    "text = 'The student\\'s letter grade is:'\n",
    "try:\n",
    "    float_input = float(user_input)\n",
    "    if 70 <= float_input <= 100:\n",
    "        print (f'{text} A')\n",
    "    elif 50 <= float_input < 70:\n",
    "        print (f'{text} B')\n",
    "    elif 35 <= float_input < 50:\n",
    "        print (f'{text} C')\n",
    "    elif 0 <= float_input < 35:\n",
    "        print (f'{text} Fail')\n",
    "except ValueError:\n",
    "    print ('Please enter a valid score')"
   ]
  },
  {
   "cell_type": "markdown",
   "id": "90d4c0d4-401e-4532-b56f-4788e2f534a2",
   "metadata": {},
   "source": [
    "## Exercise 3 (Debugging code)"
   ]
  },
  {
   "cell_type": "code",
   "execution_count": 24,
   "id": "5a9b47fc-bdd6-475c-b3a1-0f55bb07cdb2",
   "metadata": {},
   "outputs": [
    {
     "name": "stdout",
     "output_type": "stream",
     "text": [
      "120\n",
      "Invalid input\n"
     ]
    }
   ],
   "source": [
    "def factorial(n):\n",
    "    if n < 0:\n",
    "        return \"Invalid input\"\n",
    "    elif n == 0:\n",
    "        return 1\n",
    "    else:\n",
    "        result = n\n",
    "        for number in range(1, n):\n",
    "            result *= number\n",
    "        return result\n",
    "\n",
    "\n",
    "print(factorial(5))   # Testing, expected output: 120\n",
    "print(factorial(-1))  # Testing, expected output: Invalid input"
   ]
  }
 ],
 "metadata": {
  "kernelspec": {
   "display_name": "Python 3 (ipykernel)",
   "language": "python",
   "name": "python3"
  },
  "language_info": {
   "codemirror_mode": {
    "name": "ipython",
    "version": 3
   },
   "file_extension": ".py",
   "mimetype": "text/x-python",
   "name": "python",
   "nbconvert_exporter": "python",
   "pygments_lexer": "ipython3",
   "version": "3.13.5"
  },
  "toc": {
   "base_numbering": 1,
   "nav_menu": {},
   "number_sections": true,
   "sideBar": true,
   "skip_h1_title": false,
   "title_cell": "Table of Contents",
   "title_sidebar": "Contents",
   "toc_cell": false,
   "toc_position": {},
   "toc_section_display": true,
   "toc_window_display": false
  },
  "vscode": {
   "interpreter": {
    "hash": "31f2aee4e71d21fbe5cf8b01ff0e069b9275f58929596ceb00d14d90e3e16cd6"
   }
  }
 },
 "nbformat": 4,
 "nbformat_minor": 5
}
