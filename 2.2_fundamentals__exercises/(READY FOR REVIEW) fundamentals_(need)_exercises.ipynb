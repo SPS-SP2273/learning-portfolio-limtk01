{
 "cells": [
  {
   "attachments": {},
   "cell_type": "markdown",
   "id": "123456",
   "metadata": {},
   "source": [
    "<div style=\"text-align:left;font-size:2em\"><span style=\"font-weight:bolder;font-size:1.25em\">SP2273 | Learning Portfolio</span><br><br><span style=\"font-weight:bold;color:darkred\">Fundamentals (Need) Exercises</span></div>"
   ]
  },
  {
   "cell_type": "markdown",
   "id": "2950598e-8039-45c2-aacb-86e979641fef",
   "metadata": {},
   "source": [
    "## Exercise 1 (Total recall?)"
   ]
  },
  {
   "cell_type": "markdown",
   "id": "0d33f0c1-0676-4bc8-ac63-229686b09edf",
   "metadata": {},
   "source": [
    "### Basic functions in Python\n",
    "1. Print\n",
    "2. Solving math questions\n",
    "3. \"If\" functions\n",
    "4. Storing data\n",
    "5. _Comments_\n",
    "6. _Asking questions_"
   ]
  },
  {
   "cell_type": "markdown",
   "id": "913afc4d-53fd-4910-a0be-884dc098a827",
   "metadata": {},
   "source": [
    "## Exericse 2 (Debug me)"
   ]
  },
  {
   "cell_type": "code",
   "execution_count": 3,
   "id": "27d1d627-8174-41e2-bbde-69000dfc8308",
   "metadata": {},
   "outputs": [
    {
     "ename": "IndentationError",
     "evalue": "unindent does not match any outer indentation level (<string>, line 3)",
     "output_type": "error",
     "traceback": [
      "  \u001b[36mFile \u001b[39m\u001b[32m<string>:3\u001b[39m\n\u001b[31m    \u001b[39m\u001b[31mPrint(x, y, z)\u001b[39m\n                  ^\n\u001b[31mIndentationError\u001b[39m\u001b[31m:\u001b[39m unindent does not match any outer indentation level\n"
     ]
    }
   ],
   "source": [
    "x, y = 3, 4\n",
    "        z = sqrt(x*2 + y**2)\n",
    "    Print(x, y, z)"
   ]
  },
  {
   "cell_type": "code",
   "execution_count": 4,
   "id": "60438aee-0c05-4324-ac67-c31cf8c00aa1",
   "metadata": {},
   "outputs": [],
   "source": [
    "import math"
   ]
  },
  {
   "cell_type": "code",
   "execution_count": 14,
   "id": "948499ed-735a-4256-a284-4ef88a011459",
   "metadata": {},
   "outputs": [
    {
     "name": "stdout",
     "output_type": "stream",
     "text": [
      "3, 4, 5\n"
     ]
    }
   ],
   "source": [
    "x, y = 3, 4\n",
    "z = int(math.sqrt(x**2 + y**2))\n",
    "print (f'{x}, {y}, {z}')"
   ]
  },
  {
   "cell_type": "markdown",
   "id": "a4b2e7cf-183f-450a-9824-be4d33f7fb57",
   "metadata": {},
   "source": [
    "## Exercise 3 (In your own words)"
   ]
  },
  {
   "cell_type": "markdown",
   "id": "6bb5eb29-11bb-4e37-87e0-0308d624b590",
   "metadata": {},
   "source": [
    "|  #  |   Term       |  Description |\n",
    "|-----|--------------|---|\n",
    "| 1   |   Function   | A command that has the ability to execute specific tasks    |\n",
    "| 2   |   Arguments  | The details of the task that a function is going to execute                                               |\n",
    "| 3   |   Comments   |     A sidenote that will not be decipher by the Python                                                    |\n",
    "| 4   | Indentations |   A space at the start of the line, usually when that line is linked to the function of the line above it |\n",
    "| 5   |   Packages   |  External softwares that include additonal features or functions that were not in Python by default       |\n",
    "| 6   |       .      | The dot pinpoints which package a function belongs to when using functions from imported packages         |\n",
    "| 7   |       :      | To indicate the commands to execute after a condition stated in the line above is proven true or false    |\n",
    "| 8   |       []     | To store data in a 1D list  |\n",
    "| 9   |    [[],[]]   | To store data in a 2D list  |\n",
    "| 10  |       {}     | To store data in a 'dictionary' where a variables are matched to their distinct value |"
   ]
  },
  {
   "cell_type": "markdown",
   "id": "e525b029-996b-423d-9105-84abf6389739",
   "metadata": {},
   "source": [
    "## Exercise 4 (More than one way to divide)"
   ]
  },
  {
   "cell_type": "code",
   "execution_count": 2,
   "id": "9c2ecc6c-92a5-44b2-9f97-75d6b8d5ee78",
   "metadata": {},
   "outputs": [
    {
     "name": "stdout",
     "output_type": "stream",
     "text": [
      "2.5\n"
     ]
    }
   ],
   "source": [
    "x = 5/2     #The above option for diving gives the value of the quotient to its exact value.\n",
    "print (x)"
   ]
  },
  {
   "cell_type": "markdown",
   "id": "79c123bf-97a3-462e-afa8-11e350f33bf9",
   "metadata": {},
   "source": [
    "The above option for diving gives the value of the quotient to its exact value."
   ]
  },
  {
   "cell_type": "code",
   "execution_count": 17,
   "id": "d7cef2c1-24f1-4aa3-acbd-466ed3334709",
   "metadata": {},
   "outputs": [
    {
     "name": "stdout",
     "output_type": "stream",
     "text": [
      "2\n"
     ]
    }
   ],
   "source": [
    "y = 5//2\n",
    "print(y)"
   ]
  },
  {
   "cell_type": "code",
   "execution_count": 15,
   "id": "a188b1e6-b45e-43e0-93ea-4bf2998efdb5",
   "metadata": {},
   "outputs": [
    {
     "name": "stdout",
     "output_type": "stream",
     "text": [
      "3\n"
     ]
    }
   ],
   "source": [
    "y = 7//2\n",
    "print (y)"
   ]
  },
  {
   "cell_type": "code",
   "execution_count": 6,
   "id": "595a7763-9162-410d-b6c9-0372f6531e9b",
   "metadata": {},
   "outputs": [
    {
     "name": "stdout",
     "output_type": "stream",
     "text": [
      "2\n"
     ]
    }
   ],
   "source": [
    "y = 8//3      #The above option gives the whole number of the quotient for cases where the numerator cannot be divided completely by the divisor\n",
    "print (y)"
   ]
  },
  {
   "cell_type": "markdown",
   "id": "4e2973b6-14f9-4e47-a630-cdcfa92542df",
   "metadata": {},
   "source": [
    "The above option gives the whole number of the quotient for cases where the numerator cannot be divided completely by the divisor"
   ]
  },
  {
   "cell_type": "code",
   "execution_count": 18,
   "id": "975a7847-057f-4a14-b3e7-d96465d45ab1",
   "metadata": {},
   "outputs": [
    {
     "name": "stdout",
     "output_type": "stream",
     "text": [
      "1\n"
     ]
    }
   ],
   "source": [
    "z = 5%2\n",
    "print (z)"
   ]
  },
  {
   "cell_type": "code",
   "execution_count": 19,
   "id": "5dfe106a-66d1-4adb-91f3-bb4620e309c1",
   "metadata": {},
   "outputs": [
    {
     "name": "stdout",
     "output_type": "stream",
     "text": [
      "1\n"
     ]
    }
   ],
   "source": [
    "z = 7%2\n",
    "print (z)"
   ]
  },
  {
   "cell_type": "code",
   "execution_count": 20,
   "id": "a14f8b14-02fc-4928-bc91-341863c53c1c",
   "metadata": {},
   "outputs": [
    {
     "name": "stdout",
     "output_type": "stream",
     "text": [
      "2\n"
     ]
    }
   ],
   "source": [
    "z = 8%3 #The above option gives the remainder for cases where the numerator cannot be divided completely by the divisor\n",
    "print (z)"
   ]
  },
  {
   "cell_type": "markdown",
   "id": "91b20829-494d-40bf-bfe7-a5617574d736",
   "metadata": {},
   "source": [
    "The above option gives the remainder for cases where the numerator cannot be divided completely by the divisor"
   ]
  }
 ],
 "metadata": {
  "kernelspec": {
   "display_name": "Python 3 (ipykernel)",
   "language": "python",
   "name": "python3"
  },
  "language_info": {
   "codemirror_mode": {
    "name": "ipython",
    "version": 3
   },
   "file_extension": ".py",
   "mimetype": "text/x-python",
   "name": "python",
   "nbconvert_exporter": "python",
   "pygments_lexer": "ipython3",
   "version": "3.13.5"
  },
  "toc": {
   "base_numbering": 1,
   "nav_menu": {},
   "number_sections": true,
   "sideBar": true,
   "skip_h1_title": false,
   "title_cell": "Table of Contents",
   "title_sidebar": "Contents",
   "toc_cell": false,
   "toc_position": {},
   "toc_section_display": true,
   "toc_window_display": false
  },
  "vscode": {
   "interpreter": {
    "hash": "31f2aee4e71d21fbe5cf8b01ff0e069b9275f58929596ceb00d14d90e3e16cd6"
   }
  }
 },
 "nbformat": 4,
 "nbformat_minor": 5
}
