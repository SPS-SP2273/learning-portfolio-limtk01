{
 "cells": [
  {
   "attachments": {},
   "cell_type": "markdown",
   "id": "123456",
   "metadata": {},
   "source": [
    "<div style=\"text-align:left;font-size:2em\"><span style=\"font-weight:bolder;font-size:1.25em\">SP2273 | Learning Portfolio</span><br><br><span style=\"font-weight:bold;color:darkred\">Files, Folders & OS (Need) Exercises</span></div>"
   ]
  },
  {
   "cell_type": "code",
   "execution_count": 2,
   "id": "cf1c2e12-d6fa-49b6-bc0f-a59e749a9646",
   "metadata": {},
   "outputs": [],
   "source": [
    "import numpy as np\n",
    "import os\n",
    "import glob\n",
    "import shutil"
   ]
  },
  {
   "cell_type": "markdown",
   "id": "16dc033b-4253-47c9-a83c-72ae1257bb27",
   "metadata": {},
   "source": [
    "### Task 1"
   ]
  },
  {
   "cell_type": "code",
   "execution_count": 4,
   "id": "69cb1150-f090-4dae-95e4-078067b61fa7",
   "metadata": {},
   "outputs": [
    {
     "name": "stdout",
     "output_type": "stream",
     "text": [
      "10-08-Singapore.txt\n"
     ]
    }
   ],
   "source": [
    "dictionary ={'jan': '01', 'feb': '02', 'mar': '03',\n",
    "             'apr': '04', 'may': '05', 'jun': '06',\n",
    "             'jul': '07', 'aug': '08', 'sep': '09',\n",
    "             'oct': '10', 'nov': '11', 'dec': '12'}\n",
    "\n",
    "file_name = 'oct-08_Singapore.txt'\n",
    "name_part_1 = file_name.split('-')\n",
    "name_part_2 = name_part_1[1].split('_')\n",
    "for month, mm in dictionary.items(): \n",
    "    if month in file_name:\n",
    "        new_name = f'{mm}-{name_part_2[0]}-{name_part_2[1]}'\n",
    "        print (new_name)"
   ]
  },
  {
   "cell_type": "markdown",
   "id": "34e982d8-cd0f-4522-ae1f-85b6ade348b2",
   "metadata": {},
   "source": [
    "### Task 2"
   ]
  },
  {
   "cell_type": "code",
   "execution_count": 38,
   "id": "a169f17a-bbe8-40d7-a584-c7fa550e51b2",
   "metadata": {},
   "outputs": [
    {
     "data": {
      "text/plain": [
       "'11-10-Singapore.txt'"
      ]
     },
     "execution_count": 38,
     "metadata": {},
     "output_type": "execute_result"
    }
   ],
   "source": [
    "dictionary ={'jan': '01', 'feb': '02', 'mar': '03',\n",
    "             'apr': '04', 'may': '05', 'jun': '06',\n",
    "             'jul': '07', 'aug': '08', 'sep': '09',\n",
    "             'oct': '10', 'nov': '11', 'dec': '12'}\n",
    "\n",
    "def rename_my_file(old_file_name):\n",
    "    for month, mm in dictionary.items():\n",
    "        if month in old_file_name:\n",
    "            new_name_1 = old_file_name.split('-')\n",
    "            new_name_2 = new_name_1[1].split('_')\n",
    "            new_file_name = f'{mm}-{new_name_2[0]}-{new_name_2[1]}'\n",
    "            return (new_file_name)\n",
    "\n",
    "rename_my_file('nov-10_Singapore.txt')"
   ]
  },
  {
   "cell_type": "markdown",
   "id": "12f16c06-af62-4c79-bba8-f2c61e1c1ba4",
   "metadata": {},
   "source": [
    "### Task 3"
   ]
  },
  {
   "cell_type": "code",
   "execution_count": 40,
   "id": "16634753-fbd7-49e9-a335-722b217f3b30",
   "metadata": {},
   "outputs": [
    {
     "name": "stdout",
     "output_type": "stream",
     "text": [
      "10-08-singapore.txt\n",
      "07-10-cairo.txt\n",
      "05-15-dhaka.txt\n",
      "05-13-cairo.txt\n",
      "10-21-cairo.txt\n",
      "01-10-singapore.txt\n",
      "06-20-tokyo.txt\n",
      "08-06-jakarta.txt\n",
      "12-21-karachi.txt\n",
      "01-01-tokyo.txt\n"
     ]
    }
   ],
   "source": [
    "py_list = ['oct-08_singapore.txt', 'jul-10_cairo.txt',\n",
    "           'may-15_dhaka.txt', 'may-13_cairo.txt', \n",
    "           'oct-21_cairo.txt', 'jan-10_singapore.txt',\n",
    "           'jun-20_tokyo.txt', 'aug-06_jakarta.txt', \n",
    "           'dec-21_karachi.txt', 'jan-01_tokyo.txt']\n",
    "\n",
    "for files in py_list:\n",
    "    print (rename_my_file (files))"
   ]
  },
  {
   "cell_type": "markdown",
   "id": "6c62efc1-707e-414b-91e9-a2b52937a604",
   "metadata": {},
   "source": [
    "### Task 4"
   ]
  },
  {
   "cell_type": "code",
   "execution_count": 63,
   "id": "11aa1320-1695-43c1-bda0-e726ee23b3fb",
   "metadata": {},
   "outputs": [],
   "source": [
    "old_list = glob.glob('os-collaboration-exercise-data/*.txt')\n",
    "\n",
    "for old_file in old_list:\n",
    "    old_file_whole = os.path.split(old_file)\n",
    "    old_file_txt = old_file_whole[1]\n",
    "    new_file = rename_my_file (old_file_txt)\n",
    "    folder = 'os-collaboration-exercise-data'\n",
    "\n",
    "os.rename(f'{folder}/{old_file_txt}', f'{folder}/{new_file}')"
   ]
  },
  {
   "cell_type": "markdown",
   "id": "19184e4d-2318-444a-bd94-278634534027",
   "metadata": {},
   "source": [
    "### Task 5"
   ]
  },
  {
   "cell_type": "code",
   "execution_count": 3,
   "id": "4c9f6b55-aa3c-45bd-b0b0-4b1e6f079704",
   "metadata": {},
   "outputs": [],
   "source": [
    "for cities in ['Cairo', 'Dhaka', 'Jakarta', 'Karachi', 'Manila', \n",
    "               'Melbourne', 'Osaka', 'Shanghai', 'Singapore', 'Tokyo']:\n",
    "    path = os.path.join('os-collaboration-exercise-data', cities)\n",
    "    os.mkdir(path)"
   ]
  },
  {
   "cell_type": "markdown",
   "id": "a7b166d7-5560-48ca-a80f-a9f55b34b1a5",
   "metadata": {},
   "source": [
    "### Task 6"
   ]
  },
  {
   "cell_type": "code",
   "execution_count": 4,
   "id": "f6e71683-b80b-4bac-a467-5f6f16f89370",
   "metadata": {},
   "outputs": [],
   "source": [
    "cario = glob.glob('os-collaboration-exercise-data/*cairo*', recursive = True)\n",
    "for cario_files in cario:\n",
    "    cario_files_path = os.path.join('os-collaboration-exercise-data/Cairo')\n",
    "    shutil.copy(cario_files, cario_files_path)"
   ]
  },
  {
   "cell_type": "markdown",
   "id": "fcb788bd-6e69-404d-a752-5318c2b04b22",
   "metadata": {},
   "source": [
    "### Task 7"
   ]
  },
  {
   "cell_type": "code",
   "execution_count": 9,
   "id": "d73e1593-2072-43f7-9908-b56797a7de68",
   "metadata": {},
   "outputs": [],
   "source": [
    "city = ['cairo', 'dhaka', 'jakarta', 'karachi', 'manila', \n",
    "        'melbourne', 'osaka', 'shanghai', 'singapore', 'tokyo']\n",
    "\n",
    "all_files = glob.glob('os-collaboration-exercise-data/*')\n",
    "\n",
    "for suffix in city:\n",
    "    for files in all_files:\n",
    "        if suffix in files:\n",
    "            old_path = files\n",
    "            new_path = f'os-collaboration-exercise-data/{suffix}/{os.path.split(files)[1]}'\n",
    "            os.rename(old_path, new_path)"
   ]
  }
 ],
 "metadata": {
  "kernelspec": {
   "display_name": "Python 3 (ipykernel)",
   "language": "python",
   "name": "python3"
  },
  "language_info": {
   "codemirror_mode": {
    "name": "ipython",
    "version": 3
   },
   "file_extension": ".py",
   "mimetype": "text/x-python",
   "name": "python",
   "nbconvert_exporter": "python",
   "pygments_lexer": "ipython3",
   "version": "3.13.5"
  },
  "toc": {
   "base_numbering": 1,
   "nav_menu": {},
   "number_sections": true,
   "sideBar": true,
   "skip_h1_title": false,
   "title_cell": "Table of Contents",
   "title_sidebar": "Contents",
   "toc_cell": false,
   "toc_position": {},
   "toc_section_display": true,
   "toc_window_display": false
  },
  "vscode": {
   "interpreter": {
    "hash": "31f2aee4e71d21fbe5cf8b01ff0e069b9275f58929596ceb00d14d90e3e16cd6"
   }
  }
 },
 "nbformat": 4,
 "nbformat_minor": 5
}
